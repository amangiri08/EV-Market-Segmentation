{
 "cells": [
  {
   "cell_type": "code",
   "execution_count": 1,
   "id": "cdc9ee4d",
   "metadata": {},
   "outputs": [],
   "source": [
    "import numpy as np # linear algebra\n",
    "import pandas as pd # data processing, CSV file I/O (e.g. pd.read_csv)\n",
    "\n",
    "#data visualization\n",
    "import matplotlib.pyplot as plt\n",
    "import seaborn as sns "
   ]
  },
  {
   "cell_type": "markdown",
   "id": "368e5029",
   "metadata": {},
   "source": [
    "# EV Charging Stations Dataset"
   ]
  },
  {
   "cell_type": "code",
   "execution_count": 3,
   "id": "3bdbbb97",
   "metadata": {},
   "outputs": [
    {
     "data": {
      "text/html": [
       "<div>\n",
       "<style scoped>\n",
       "    .dataframe tbody tr th:only-of-type {\n",
       "        vertical-align: middle;\n",
       "    }\n",
       "\n",
       "    .dataframe tbody tr th {\n",
       "        vertical-align: top;\n",
       "    }\n",
       "\n",
       "    .dataframe thead th {\n",
       "        text-align: right;\n",
       "    }\n",
       "</style>\n",
       "<table border=\"1\" class=\"dataframe\">\n",
       "  <thead>\n",
       "    <tr style=\"text-align: right;\">\n",
       "      <th></th>\n",
       "      <th>_id</th>\n",
       "      <th>no</th>\n",
       "      <th>region</th>\n",
       "      <th>address</th>\n",
       "      <th>aux addres</th>\n",
       "      <th>latitude</th>\n",
       "      <th>longitude</th>\n",
       "      <th>type</th>\n",
       "      <th>power</th>\n",
       "      <th>service</th>\n",
       "    </tr>\n",
       "  </thead>\n",
       "  <tbody>\n",
       "    <tr>\n",
       "      <th>0</th>\n",
       "      <td>1</td>\n",
       "      <td>1</td>\n",
       "      <td>NDMC</td>\n",
       "      <td>Prithviraj Market, Rabindra Nagar, New Delhi- ...</td>\n",
       "      <td>Electric Vehicle Charger, Prithviraj Market, R...</td>\n",
       "      <td>28.600725</td>\n",
       "      <td>77.226252</td>\n",
       "      <td>DC-001</td>\n",
       "      <td>15 kW</td>\n",
       "      <td>Self Service</td>\n",
       "    </tr>\n",
       "    <tr>\n",
       "      <th>1</th>\n",
       "      <td>2</td>\n",
       "      <td>2</td>\n",
       "      <td>NDMC</td>\n",
       "      <td>Prithviraj Market, Rabindra Nagar, New Delhi- ...</td>\n",
       "      <td>Electric Vehicle Charger, Prithviraj Market, R...</td>\n",
       "      <td>28.600725</td>\n",
       "      <td>77.226252</td>\n",
       "      <td>DC-001</td>\n",
       "      <td>15 kW</td>\n",
       "      <td>Self Service</td>\n",
       "    </tr>\n",
       "    <tr>\n",
       "      <th>2</th>\n",
       "      <td>3</td>\n",
       "      <td>3</td>\n",
       "      <td>NDMC</td>\n",
       "      <td>Outside RWA Park, Jor Bagh Market, Jor Bagh Co...</td>\n",
       "      <td>Electric Vehicle Charger, Outside RWA Park, Jo...</td>\n",
       "      <td>28.588303</td>\n",
       "      <td>77.217697</td>\n",
       "      <td>DC-001</td>\n",
       "      <td>15 kW</td>\n",
       "      <td>Self Service</td>\n",
       "    </tr>\n",
       "    <tr>\n",
       "      <th>3</th>\n",
       "      <td>4</td>\n",
       "      <td>4</td>\n",
       "      <td>NDMC</td>\n",
       "      <td>Opposite Dory Pharmacy, Khanna Market, Aliganj...</td>\n",
       "      <td>Electric Vehicle Charger, Opposite Dory Pharma...</td>\n",
       "      <td>28.582654</td>\n",
       "      <td>77.220087</td>\n",
       "      <td>DC-001</td>\n",
       "      <td>15 kW</td>\n",
       "      <td>Self Service</td>\n",
       "    </tr>\n",
       "    <tr>\n",
       "      <th>4</th>\n",
       "      <td>5</td>\n",
       "      <td>5</td>\n",
       "      <td>NDMC</td>\n",
       "      <td>Opposite Goel Opticals, Khanna Market, Aliganj...</td>\n",
       "      <td>Electric Vehicle Charger, Opposite Goel Optica...</td>\n",
       "      <td>28.584485</td>\n",
       "      <td>77.220316</td>\n",
       "      <td>DC-001</td>\n",
       "      <td>15 kW</td>\n",
       "      <td>Self Service</td>\n",
       "    </tr>\n",
       "    <tr>\n",
       "      <th>...</th>\n",
       "      <td>...</td>\n",
       "      <td>...</td>\n",
       "      <td>...</td>\n",
       "      <td>...</td>\n",
       "      <td>...</td>\n",
       "      <td>...</td>\n",
       "      <td>...</td>\n",
       "      <td>...</td>\n",
       "      <td>...</td>\n",
       "      <td>...</td>\n",
       "    </tr>\n",
       "    <tr>\n",
       "      <th>197</th>\n",
       "      <td>198</td>\n",
       "      <td>198</td>\n",
       "      <td>ANERT</td>\n",
       "      <td>State Council For Child Welfare, CV Raman Pill...</td>\n",
       "      <td>Electric Vehicle Charger, State Council For Ch...</td>\n",
       "      <td>8.491622</td>\n",
       "      <td>76.956247</td>\n",
       "      <td>CCS/ChADEMO/ Type 2 AC</td>\n",
       "      <td>142kW</td>\n",
       "      <td>Self Service</td>\n",
       "    </tr>\n",
       "    <tr>\n",
       "      <th>198</th>\n",
       "      <td>199</td>\n",
       "      <td>199</td>\n",
       "      <td>ANERT</td>\n",
       "      <td>Shanghumukham beach, thiruvananthapuram,Kerala...</td>\n",
       "      <td>Electric Vehicle Charger, Shanghumukham beach,...</td>\n",
       "      <td>8.481051</td>\n",
       "      <td>76.912622</td>\n",
       "      <td>DC-001</td>\n",
       "      <td>15 kW</td>\n",
       "      <td>Self Service</td>\n",
       "    </tr>\n",
       "    <tr>\n",
       "      <th>199</th>\n",
       "      <td>200</td>\n",
       "      <td>200</td>\n",
       "      <td>ANERT</td>\n",
       "      <td>KTDC Tourist Reception Centre Shanmugham road,...</td>\n",
       "      <td>Electric Vehicle Charger, KTDC Tourist Recepti...</td>\n",
       "      <td>9.976921</td>\n",
       "      <td>76.277781</td>\n",
       "      <td>DC-001</td>\n",
       "      <td>15 kW</td>\n",
       "      <td>Self Service</td>\n",
       "    </tr>\n",
       "    <tr>\n",
       "      <th>200</th>\n",
       "      <td>201</td>\n",
       "      <td>201</td>\n",
       "      <td>ANERT</td>\n",
       "      <td>State Council For Child Welfare, CV Raman Pill...</td>\n",
       "      <td>Electric Vehicle Charger, State Council For Ch...</td>\n",
       "      <td>8.491622</td>\n",
       "      <td>76.956247</td>\n",
       "      <td>DC-001</td>\n",
       "      <td>15 kW</td>\n",
       "      <td>Self Service</td>\n",
       "    </tr>\n",
       "    <tr>\n",
       "      <th>201</th>\n",
       "      <td>202</td>\n",
       "      <td>202</td>\n",
       "      <td>SDMC</td>\n",
       "      <td>EESL PVR Priya Vasant Vihar, SDMC parking New ...</td>\n",
       "      <td>Electric Vehicle Charger, EESL PVR Priya Vasan...</td>\n",
       "      <td>28.557662</td>\n",
       "      <td>77.157684</td>\n",
       "      <td>DC-001</td>\n",
       "      <td>15 kW</td>\n",
       "      <td>Self Service</td>\n",
       "    </tr>\n",
       "  </tbody>\n",
       "</table>\n",
       "<p>202 rows × 10 columns</p>\n",
       "</div>"
      ],
      "text/plain": [
       "     _id   no region                                            address  \\\n",
       "0      1    1   NDMC  Prithviraj Market, Rabindra Nagar, New Delhi- ...   \n",
       "1      2    2   NDMC  Prithviraj Market, Rabindra Nagar, New Delhi- ...   \n",
       "2      3    3   NDMC  Outside RWA Park, Jor Bagh Market, Jor Bagh Co...   \n",
       "3      4    4   NDMC  Opposite Dory Pharmacy, Khanna Market, Aliganj...   \n",
       "4      5    5   NDMC  Opposite Goel Opticals, Khanna Market, Aliganj...   \n",
       "..   ...  ...    ...                                                ...   \n",
       "197  198  198  ANERT  State Council For Child Welfare, CV Raman Pill...   \n",
       "198  199  199  ANERT  Shanghumukham beach, thiruvananthapuram,Kerala...   \n",
       "199  200  200  ANERT  KTDC Tourist Reception Centre Shanmugham road,...   \n",
       "200  201  201  ANERT  State Council For Child Welfare, CV Raman Pill...   \n",
       "201  202  202   SDMC  EESL PVR Priya Vasant Vihar, SDMC parking New ...   \n",
       "\n",
       "                                            aux addres   latitude  longitude  \\\n",
       "0    Electric Vehicle Charger, Prithviraj Market, R...  28.600725  77.226252   \n",
       "1    Electric Vehicle Charger, Prithviraj Market, R...  28.600725  77.226252   \n",
       "2    Electric Vehicle Charger, Outside RWA Park, Jo...  28.588303  77.217697   \n",
       "3    Electric Vehicle Charger, Opposite Dory Pharma...  28.582654  77.220087   \n",
       "4    Electric Vehicle Charger, Opposite Goel Optica...  28.584485  77.220316   \n",
       "..                                                 ...        ...        ...   \n",
       "197  Electric Vehicle Charger, State Council For Ch...   8.491622  76.956247   \n",
       "198  Electric Vehicle Charger, Shanghumukham beach,...   8.481051  76.912622   \n",
       "199  Electric Vehicle Charger, KTDC Tourist Recepti...   9.976921  76.277781   \n",
       "200  Electric Vehicle Charger, State Council For Ch...   8.491622  76.956247   \n",
       "201  Electric Vehicle Charger, EESL PVR Priya Vasan...  28.557662  77.157684   \n",
       "\n",
       "                       type  power       service  \n",
       "0                    DC-001  15 kW  Self Service  \n",
       "1                    DC-001  15 kW  Self Service  \n",
       "2                    DC-001  15 kW  Self Service  \n",
       "3                    DC-001  15 kW  Self Service  \n",
       "4                    DC-001  15 kW  Self Service  \n",
       "..                      ...    ...           ...  \n",
       "197  CCS/ChADEMO/ Type 2 AC  142kW  Self Service  \n",
       "198                  DC-001  15 kW  Self Service  \n",
       "199                  DC-001  15 kW  Self Service  \n",
       "200                  DC-001  15 kW  Self Service  \n",
       "201                  DC-001  15 kW  Self Service  \n",
       "\n",
       "[202 rows x 10 columns]"
      ]
     },
     "execution_count": 3,
     "metadata": {},
     "output_type": "execute_result"
    }
   ],
   "source": [
    "## reading the data\n",
    "df = pd.read_csv('C:/Users/intel/Desktop/Data Science/FeyNN Labs Internship/EV Market Datasets/Electric vehicle charging stations.csv')\n",
    "df"
   ]
  },
  {
   "cell_type": "code",
   "execution_count": 4,
   "id": "7a1d42e5",
   "metadata": {},
   "outputs": [
    {
     "name": "stdout",
     "output_type": "stream",
     "text": [
      "<class 'pandas.core.frame.DataFrame'>\n",
      "RangeIndex: 202 entries, 0 to 201\n",
      "Data columns (total 10 columns):\n",
      " #   Column      Non-Null Count  Dtype  \n",
      "---  ------      --------------  -----  \n",
      " 0   _id         202 non-null    int64  \n",
      " 1   no          202 non-null    int64  \n",
      " 2   region      202 non-null    object \n",
      " 3   address     202 non-null    object \n",
      " 4   aux addres  202 non-null    object \n",
      " 5   latitude    202 non-null    float64\n",
      " 6   longitude   202 non-null    float64\n",
      " 7   type        202 non-null    object \n",
      " 8   power       202 non-null    object \n",
      " 9   service     202 non-null    object \n",
      "dtypes: float64(2), int64(2), object(6)\n",
      "memory usage: 11.1+ KB\n"
     ]
    }
   ],
   "source": [
    "df.info()"
   ]
  },
  {
   "cell_type": "code",
   "execution_count": 5,
   "id": "0e7b77bb",
   "metadata": {},
   "outputs": [
    {
     "name": "stdout",
     "output_type": "stream",
     "text": [
      "_id           0\n",
      "no            0\n",
      "region        0\n",
      "address       0\n",
      "aux addres    0\n",
      "latitude      0\n",
      "longitude     0\n",
      "type          0\n",
      "power         0\n",
      "service       0\n",
      "dtype: int64\n"
     ]
    }
   ],
   "source": [
    "print(pd.isnull(df).sum())"
   ]
  },
  {
   "cell_type": "code",
   "execution_count": 6,
   "id": "bde32cde",
   "metadata": {},
   "outputs": [
    {
     "data": {
      "text/html": [
       "<div>\n",
       "<style scoped>\n",
       "    .dataframe tbody tr th:only-of-type {\n",
       "        vertical-align: middle;\n",
       "    }\n",
       "\n",
       "    .dataframe tbody tr th {\n",
       "        vertical-align: top;\n",
       "    }\n",
       "\n",
       "    .dataframe thead th {\n",
       "        text-align: right;\n",
       "    }\n",
       "</style>\n",
       "<table border=\"1\" class=\"dataframe\">\n",
       "  <thead>\n",
       "    <tr style=\"text-align: right;\">\n",
       "      <th></th>\n",
       "      <th>_id</th>\n",
       "      <th>no</th>\n",
       "      <th>latitude</th>\n",
       "      <th>longitude</th>\n",
       "    </tr>\n",
       "  </thead>\n",
       "  <tbody>\n",
       "    <tr>\n",
       "      <th>_id</th>\n",
       "      <td>1.000000</td>\n",
       "      <td>1.000000</td>\n",
       "      <td>-0.248314</td>\n",
       "      <td>0.040790</td>\n",
       "    </tr>\n",
       "    <tr>\n",
       "      <th>no</th>\n",
       "      <td>1.000000</td>\n",
       "      <td>1.000000</td>\n",
       "      <td>-0.248314</td>\n",
       "      <td>0.040790</td>\n",
       "    </tr>\n",
       "    <tr>\n",
       "      <th>latitude</th>\n",
       "      <td>-0.248314</td>\n",
       "      <td>-0.248314</td>\n",
       "      <td>1.000000</td>\n",
       "      <td>-0.343559</td>\n",
       "    </tr>\n",
       "    <tr>\n",
       "      <th>longitude</th>\n",
       "      <td>0.040790</td>\n",
       "      <td>0.040790</td>\n",
       "      <td>-0.343559</td>\n",
       "      <td>1.000000</td>\n",
       "    </tr>\n",
       "  </tbody>\n",
       "</table>\n",
       "</div>"
      ],
      "text/plain": [
       "                _id        no  latitude  longitude\n",
       "_id        1.000000  1.000000 -0.248314   0.040790\n",
       "no         1.000000  1.000000 -0.248314   0.040790\n",
       "latitude  -0.248314 -0.248314  1.000000  -0.343559\n",
       "longitude  0.040790  0.040790 -0.343559   1.000000"
      ]
     },
     "execution_count": 6,
     "metadata": {},
     "output_type": "execute_result"
    }
   ],
   "source": [
    "df.corr()"
   ]
  },
  {
   "cell_type": "code",
   "execution_count": 7,
   "id": "c0c09f44",
   "metadata": {},
   "outputs": [
    {
     "data": {
      "text/plain": [
       "NDMC               74\n",
       "Noida Authority    53\n",
       "SDMC               31\n",
       "CMRL               16\n",
       "NKDA               16\n",
       "ANERT               6\n",
       "NRANVP              4\n",
       "Maha Metro          2\n",
       "Name: region, dtype: int64"
      ]
     },
     "execution_count": 7,
     "metadata": {},
     "output_type": "execute_result"
    }
   ],
   "source": [
    "# value count of region\n",
    "val1 = df[\"region\"].value_counts()\n",
    "val1"
   ]
  },
  {
   "cell_type": "code",
   "execution_count": 8,
   "id": "6503f9a0",
   "metadata": {},
   "outputs": [
    {
     "data": {
      "image/png": "[encoded data removed]",
      "text/plain": [
       "<Figure size 360x360 with 1 Axes>"
      ]
     },
     "metadata": {},
     "output_type": "display_data"
    }
   ],
   "source": [
    "plt.figure(figsize=(5,5))\n",
    "val1.plot(kind='pie',autopct=\"%.2f%%\")\n",
    "plt.xlabel('region')\n",
    "plt.ylabel('Count')\n",
    "plt.show()"
   ]
  },
  {
   "cell_type": "code",
   "execution_count": 9,
   "id": "018407b5",
   "metadata": {},
   "outputs": [
    {
     "data": {
      "text/plain": [
       "DC-001                    115\n",
       "CCS/ChADEMO/ Type 2 AC     67\n",
       "AC-001                     20\n",
       "Name: type, dtype: int64"
      ]
     },
     "execution_count": 9,
     "metadata": {},
     "output_type": "execute_result"
    }
   ],
   "source": [
    "# value count of type\n",
    "val1 = df[\"type\"].value_counts()\n",
    "val1"
   ]
  },
  {
   "cell_type": "code",
   "execution_count": 10,
   "id": "b2f8f52f",
   "metadata": {},
   "outputs": [
    {
     "data": {
      "image/png": "[encoded data removed]",
      "text/plain": [
       "<Figure size 432x432 with 1 Axes>"
      ]
     },
     "metadata": {},
     "output_type": "display_data"
    }
   ],
   "source": [
    "plt.figure(figsize=(6,6))\n",
    "val1.plot(kind='pie',autopct=\"%.2f%%\")\n",
    "plt.xlabel('type')\n",
    "plt.ylabel('Count')\n",
    "plt.show()"
   ]
  },
  {
   "cell_type": "code",
   "execution_count": 11,
   "id": "44279379",
   "metadata": {},
   "outputs": [
    {
     "data": {
      "text/plain": [
       "15 kW              115\n",
       "142kW               67\n",
       "10(3.3 kW each)     20\n",
       "Name: power, dtype: int64"
      ]
     },
     "execution_count": 11,
     "metadata": {},
     "output_type": "execute_result"
    }
   ],
   "source": [
    "# value count of power\n",
    "val2 = df[\"power\"].value_counts()\n",
    "val2"
   ]
  },
  {
   "cell_type": "code",
   "execution_count": 12,
   "id": "9545d122",
   "metadata": {},
   "outputs": [
    {
     "data": {
      "image/png": "[encoded data removed]",
      "text/plain": [
       "<Figure size 504x504 with 1 Axes>"
      ]
     },
     "metadata": {},
     "output_type": "display_data"
    }
   ],
   "source": [
    "plt.figure(figsize=(7,7))\n",
    "val2.plot(kind='pie',autopct=\"%.2f%%\")\n",
    "plt.xlabel('power')\n",
    "plt.ylabel('Count')\n",
    "plt.show()"
   ]
  },
  {
   "cell_type": "markdown",
   "id": "b3fd725c",
   "metadata": {},
   "source": [
    "# EV India Dataset Preprocessing"
   ]
  },
  {
   "cell_type": "code",
   "execution_count": 1,
   "id": "643e88b7",
   "metadata": {},
   "outputs": [],
   "source": [
    "import numpy as np # linear algebra\n",
    "import pandas as pd # data processing, CSV file I/O (e.g. pd.read_csv)\n",
    "\n",
    "#data visualization\n",
    "import matplotlib.pyplot as plt\n",
    "import seaborn as sns "
   ]
  },
  {
   "cell_type": "code",
   "execution_count": 2,
   "id": "658cd213",
   "metadata": {},
   "outputs": [
    {
     "data": {
      "text/html": [
       "<div>\n",
       "<style scoped>\n",
       "    .dataframe tbody tr th:only-of-type {\n",
       "        vertical-align: middle;\n",
       "    }\n",
       "\n",
       "    .dataframe tbody tr th {\n",
       "        vertical-align: top;\n",
       "    }\n",
       "\n",
       "    .dataframe thead th {\n",
       "        text-align: right;\n",
       "    }\n",
       "</style>\n",
       "<table border=\"1\" class=\"dataframe\">\n",
       "  <thead>\n",
       "    <tr style=\"text-align: right;\">\n",
       "      <th></th>\n",
       "      <th>Car</th>\n",
       "      <th>Style</th>\n",
       "      <th>Range</th>\n",
       "      <th>Transmission</th>\n",
       "      <th>VehicleType</th>\n",
       "      <th>PriceRange</th>\n",
       "      <th>Capacity</th>\n",
       "      <th>BootSpace</th>\n",
       "      <th>BaseModel</th>\n",
       "      <th>TopModel</th>\n",
       "    </tr>\n",
       "  </thead>\n",
       "  <tbody>\n",
       "    <tr>\n",
       "      <th>0</th>\n",
       "      <td>Tata Nexon EV</td>\n",
       "      <td>Compact SUV</td>\n",
       "      <td>312 Km/Full Charge</td>\n",
       "      <td>Automatic</td>\n",
       "      <td>Electric</td>\n",
       "      <td>₹ 13.99 - 17.4 L</td>\n",
       "      <td>5 Seater</td>\n",
       "      <td>350 L</td>\n",
       "      <td>XM</td>\n",
       "      <td>Dark XZ Plus LUX</td>\n",
       "    </tr>\n",
       "    <tr>\n",
       "      <th>1</th>\n",
       "      <td>Tata Tigor EV</td>\n",
       "      <td>Subcompact Sedan</td>\n",
       "      <td>306 Km/Full Charge</td>\n",
       "      <td>Automatic</td>\n",
       "      <td>Electric</td>\n",
       "      <td>₹ 12.49 - 13.64 L</td>\n",
       "      <td>5 Seater</td>\n",
       "      <td>316 L</td>\n",
       "      <td>XE</td>\n",
       "      <td>XZ Plus Dual Tone</td>\n",
       "    </tr>\n",
       "    <tr>\n",
       "      <th>2</th>\n",
       "      <td>Tata Nexon EV Max</td>\n",
       "      <td>Compact SUV</td>\n",
       "      <td>437 Km/Full Charge</td>\n",
       "      <td>Automatic</td>\n",
       "      <td>Electric</td>\n",
       "      <td>₹ 17.74 - 19.24 L</td>\n",
       "      <td>5 Seater</td>\n",
       "      <td>350 L</td>\n",
       "      <td>XZ Plus 3.3 kW</td>\n",
       "      <td>XZ Plus Lux 7.2 kW</td>\n",
       "    </tr>\n",
       "    <tr>\n",
       "      <th>3</th>\n",
       "      <td>MG ZS EV</td>\n",
       "      <td>Compact SUV</td>\n",
       "      <td>419 Km/Full Charge</td>\n",
       "      <td>Automatic</td>\n",
       "      <td>Electric</td>\n",
       "      <td>₹ 21.99 - 25.88 L</td>\n",
       "      <td>5 Seater</td>\n",
       "      <td>448 L</td>\n",
       "      <td>Excite</td>\n",
       "      <td>Exclusive</td>\n",
       "    </tr>\n",
       "    <tr>\n",
       "      <th>4</th>\n",
       "      <td>Hyundai Kona Electric</td>\n",
       "      <td>Compact SUV</td>\n",
       "      <td>452 Km/Full Charge</td>\n",
       "      <td>Automatic</td>\n",
       "      <td>Electric</td>\n",
       "      <td>₹ 23.79 - 23.98 L</td>\n",
       "      <td>5 Seater</td>\n",
       "      <td>na</td>\n",
       "      <td>Premium Dual Tone</td>\n",
       "      <td>HSE</td>\n",
       "    </tr>\n",
       "    <tr>\n",
       "      <th>5</th>\n",
       "      <td>Jaguar I-Pace</td>\n",
       "      <td>Premium Midsize Sedan</td>\n",
       "      <td>470 Km/Full Charge</td>\n",
       "      <td>Automatic</td>\n",
       "      <td>Electric</td>\n",
       "      <td>₹ 1.06 - 1.12 Cr</td>\n",
       "      <td>5 Seater</td>\n",
       "      <td>656 L</td>\n",
       "      <td>S</td>\n",
       "      <td>Sportback 55</td>\n",
       "    </tr>\n",
       "    <tr>\n",
       "      <th>6</th>\n",
       "      <td>Audi E-Tron GT</td>\n",
       "      <td>Premium Coupe</td>\n",
       "      <td>388 Km/Full Charge</td>\n",
       "      <td>Automatic</td>\n",
       "      <td>Electric</td>\n",
       "      <td>₹ 1.8 Cr</td>\n",
       "      <td>5 Seater</td>\n",
       "      <td>405 L</td>\n",
       "      <td>Quattro</td>\n",
       "      <td>na</td>\n",
       "    </tr>\n",
       "    <tr>\n",
       "      <th>7</th>\n",
       "      <td>BYD E6</td>\n",
       "      <td>Subcompact MPV</td>\n",
       "      <td>415 Km/Full Charge</td>\n",
       "      <td>Automatic</td>\n",
       "      <td>Electric</td>\n",
       "      <td>₹ 29.15 L</td>\n",
       "      <td>5 Seater</td>\n",
       "      <td>580 L</td>\n",
       "      <td>STD</td>\n",
       "      <td>na</td>\n",
       "    </tr>\n",
       "    <tr>\n",
       "      <th>8</th>\n",
       "      <td>Mercedes-Benz EQC</td>\n",
       "      <td>Compact SUV</td>\n",
       "      <td>471 Km/Full Charge</td>\n",
       "      <td>Automatic</td>\n",
       "      <td>Electric</td>\n",
       "      <td>₹ 1 Cr</td>\n",
       "      <td>5 Seater</td>\n",
       "      <td>na</td>\n",
       "      <td>na</td>\n",
       "      <td>na</td>\n",
       "    </tr>\n",
       "    <tr>\n",
       "      <th>9</th>\n",
       "      <td>BMW iX</td>\n",
       "      <td>Premium Fullsize SUV</td>\n",
       "      <td>425 Km/Full Charge</td>\n",
       "      <td>Automatic</td>\n",
       "      <td>Electric</td>\n",
       "      <td>₹ 1.16 Cr</td>\n",
       "      <td>5 Seater</td>\n",
       "      <td>na</td>\n",
       "      <td>na</td>\n",
       "      <td>na</td>\n",
       "    </tr>\n",
       "    <tr>\n",
       "      <th>10</th>\n",
       "      <td>Porsche Taycan</td>\n",
       "      <td>Premium Sports Sedan</td>\n",
       "      <td>na</td>\n",
       "      <td>Automatic</td>\n",
       "      <td>Electric</td>\n",
       "      <td>₹ 1.5 Cr</td>\n",
       "      <td>4 Seater</td>\n",
       "      <td>na</td>\n",
       "      <td>na</td>\n",
       "      <td>na</td>\n",
       "    </tr>\n",
       "    <tr>\n",
       "      <th>11</th>\n",
       "      <td>Audi E-Tron</td>\n",
       "      <td>Compact SUV</td>\n",
       "      <td>400 Km/Full Charge</td>\n",
       "      <td>Automatic</td>\n",
       "      <td>Electric</td>\n",
       "      <td>₹ 1.01 - 1.19 Cr</td>\n",
       "      <td>5 Seater</td>\n",
       "      <td>660 L</td>\n",
       "      <td>na</td>\n",
       "      <td>na</td>\n",
       "    </tr>\n",
       "  </tbody>\n",
       "</table>\n",
       "</div>"
      ],
      "text/plain": [
       "                      Car                  Style               Range  \\\n",
       "0           Tata Nexon EV            Compact SUV  312 Km/Full Charge   \n",
       "1           Tata Tigor EV       Subcompact Sedan  306 Km/Full Charge   \n",
       "2       Tata Nexon EV Max            Compact SUV  437 Km/Full Charge   \n",
       "3                MG ZS EV            Compact SUV  419 Km/Full Charge   \n",
       "4   Hyundai Kona Electric            Compact SUV  452 Km/Full Charge   \n",
       "5           Jaguar I-Pace  Premium Midsize Sedan  470 Km/Full Charge   \n",
       "6          Audi E-Tron GT          Premium Coupe  388 Km/Full Charge   \n",
       "7                  BYD E6         Subcompact MPV  415 Km/Full Charge   \n",
       "8       Mercedes-Benz EQC            Compact SUV  471 Km/Full Charge   \n",
       "9                  BMW iX   Premium Fullsize SUV  425 Km/Full Charge   \n",
       "10         Porsche Taycan   Premium Sports Sedan                  na   \n",
       "11            Audi E-Tron            Compact SUV  400 Km/Full Charge   \n",
       "\n",
       "   Transmission VehicleType         PriceRange   Capacity BootSpace  \\\n",
       "0     Automatic    Electric   ₹ 13.99 - 17.4 L  5 Seater      350 L   \n",
       "1     Automatic    Electric  ₹ 12.49 - 13.64 L  5 Seater      316 L   \n",
       "2     Automatic    Electric  ₹ 17.74 - 19.24 L  5 Seater      350 L   \n",
       "3     Automatic    Electric  ₹ 21.99 - 25.88 L  5 Seater      448 L   \n",
       "4     Automatic    Electric  ₹ 23.79 - 23.98 L  5 Seater         na   \n",
       "5     Automatic    Electric   ₹ 1.06 - 1.12 Cr  5 Seater      656 L   \n",
       "6     Automatic    Electric           ₹ 1.8 Cr  5 Seater      405 L   \n",
       "7     Automatic    Electric          ₹ 29.15 L  5 Seater      580 L   \n",
       "8     Automatic    Electric             ₹ 1 Cr  5 Seater         na   \n",
       "9     Automatic    Electric          ₹ 1.16 Cr  5 Seater         na   \n",
       "10    Automatic    Electric           ₹ 1.5 Cr  4 Seater         na   \n",
       "11    Automatic    Electric   ₹ 1.01 - 1.19 Cr  5 Seater      660 L   \n",
       "\n",
       "             BaseModel             TopModel  \n",
       "0                  XM     Dark XZ Plus LUX   \n",
       "1                  XE    XZ Plus Dual Tone   \n",
       "2      XZ Plus 3.3 kW   XZ Plus Lux 7.2 kW   \n",
       "3              Excite            Exclusive   \n",
       "4   Premium Dual Tone                  HSE   \n",
       "5                   S         Sportback 55   \n",
       "6             Quattro                    na  \n",
       "7                 STD                    na  \n",
       "8                   na                   na  \n",
       "9                   na                   na  \n",
       "10                  na                   na  \n",
       "11                  na                   na  "
      ]
     },
     "execution_count": 2,
     "metadata": {},
     "output_type": "execute_result"
    }
   ],
   "source": [
    "## reading the data\n",
    "df = pd.read_csv('C:/Users/intel/Desktop/Data Science/FeyNN Labs Internship/EV Market Datasets/EVIndia.csv')\n",
    "df"
   ]
  },
  {
   "cell_type": "code",
   "execution_count": 3,
   "id": "c9f2113f",
   "metadata": {},
   "outputs": [
    {
     "name": "stdout",
     "output_type": "stream",
     "text": [
      "<class 'pandas.core.frame.DataFrame'>\n",
      "RangeIndex: 12 entries, 0 to 11\n",
      "Data columns (total 10 columns):\n",
      " #   Column        Non-Null Count  Dtype \n",
      "---  ------        --------------  ----- \n",
      " 0   Car           12 non-null     object\n",
      " 1   Style         12 non-null     object\n",
      " 2   Range         12 non-null     object\n",
      " 3   Transmission  12 non-null     object\n",
      " 4   VehicleType   12 non-null     object\n",
      " 5   PriceRange    12 non-null     object\n",
      " 6   Capacity      12 non-null     object\n",
      " 7   BootSpace     12 non-null     object\n",
      " 8   BaseModel     12 non-null     object\n",
      " 9   TopModel      12 non-null     object\n",
      "dtypes: object(10)\n",
      "memory usage: 544.0+ bytes\n"
     ]
    }
   ],
   "source": [
    "df.info()"
   ]
  },
  {
   "cell_type": "code",
   "execution_count": 4,
   "id": "571689e4",
   "metadata": {},
   "outputs": [
    {
     "name": "stdout",
     "output_type": "stream",
     "text": [
      "Car             0\n",
      "Style           0\n",
      "Range           0\n",
      "Transmission    0\n",
      "VehicleType     0\n",
      "PriceRange      0\n",
      "Capacity        0\n",
      "BootSpace       0\n",
      "BaseModel       0\n",
      "TopModel        0\n",
      "dtype: int64\n"
     ]
    }
   ],
   "source": [
    "print(pd.isnull(df).sum())"
   ]
  },
  {
   "cell_type": "code",
   "execution_count": 5,
   "id": "2abc60cc",
   "metadata": {},
   "outputs": [
    {
     "data": {
      "text/plain": [
       "Compact SUV              6\n",
       "Subcompact Sedan         1\n",
       "Premium Midsize Sedan    1\n",
       "Premium Coupe            1\n",
       "Subcompact MPV           1\n",
       "Premium Fullsize SUV     1\n",
       "Premium Sports Sedan     1\n",
       "Name: Style, dtype: int64"
      ]
     },
     "execution_count": 5,
     "metadata": {},
     "output_type": "execute_result"
    }
   ],
   "source": [
    "# value count of style\n",
    "val1 = df[\"Style\"].value_counts()\n",
    "val1"
   ]
  },
  {
   "cell_type": "code",
   "execution_count": 6,
   "id": "d14d4fb3",
   "metadata": {},
   "outputs": [
    {
     "data": {
      "image/png": "[encoded data removed]",
      "text/plain": [
       "<Figure size 504x504 with 1 Axes>"
      ]
     },
     "metadata": {},
     "output_type": "display_data"
    }
   ],
   "source": [
    "plt.figure(figsize=(7,7))\n",
    "val1.plot(kind='pie',autopct=\"%.2f%%\")\n",
    "plt.xlabel('Style')\n",
    "plt.ylabel('Count')\n",
    "plt.show()"
   ]
  },
  {
   "cell_type": "code",
   "execution_count": 7,
   "id": "966f3020",
   "metadata": {},
   "outputs": [
    {
     "data": {
      "text/plain": [
       "Tata Nexon EV            1\n",
       "Tata Tigor EV            1\n",
       "Tata Nexon EV Max        1\n",
       "MG ZS EV                 1\n",
       "Hyundai Kona Electric    1\n",
       "Jaguar I-Pace            1\n",
       "Audi E-Tron GT           1\n",
       "BYD E6                   1\n",
       "Mercedes-Benz EQC        1\n",
       "BMW iX                   1\n",
       "Porsche Taycan           1\n",
       "Audi E-Tron              1\n",
       "Name: Car, dtype: int64"
      ]
     },
     "execution_count": 7,
     "metadata": {},
     "output_type": "execute_result"
    }
   ],
   "source": [
    "val2 = df[\"Car\"].value_counts()\n",
    "val2"
   ]
  },
  {
   "cell_type": "code",
   "execution_count": 8,
   "id": "c2e6d11a",
   "metadata": {},
   "outputs": [
    {
     "data": {
      "image/png": "[encoded data removed]",
      "text/plain": [
       "<Figure size 360x360 with 1 Axes>"
      ]
     },
     "metadata": {},
     "output_type": "display_data"
    }
   ],
   "source": [
    "plt.figure(figsize=(5,5))\n",
    "val2.plot(kind='pie',autopct=\"%.2f%%\")\n",
    "plt.xlabel('Car')\n",
    "plt.ylabel('Count')\n",
    "plt.show()"
   ]
  },
  {
   "cell_type": "code",
   "execution_count": 9,
   "id": "2a56c202",
   "metadata": {},
   "outputs": [
    {
     "data": {
      "text/plain": [
       "na                    4\n",
       "XM                    1\n",
       "XE                    1\n",
       "XZ Plus 3.3 kW        1\n",
       "Excite                1\n",
       "Premium Dual Tone     1\n",
       "S                     1\n",
       "Quattro               1\n",
       "STD                   1\n",
       "Name: BaseModel, dtype: int64"
      ]
     },
     "execution_count": 9,
     "metadata": {},
     "output_type": "execute_result"
    }
   ],
   "source": [
    "val3 = df[\"BaseModel\"].value_counts()\n",
    "val3"
   ]
  },
  {
   "cell_type": "code",
   "execution_count": 10,
   "id": "16699e9e",
   "metadata": {},
   "outputs": [
    {
     "data": {
      "image/png": "[encoded data removed]",
      "text/plain": [
       "<Figure size 360x360 with 1 Axes>"
      ]
     },
     "metadata": {},
     "output_type": "display_data"
    }
   ],
   "source": [
    "plt.figure(figsize=(5,5))\n",
    "val3.plot(kind='pie',autopct=\"%.2f%%\")\n",
    "plt.xlabel('BaseModel')\n",
    "plt.ylabel('Count')\n",
    "plt.show()"
   ]
  },
  {
   "cell_type": "code",
   "execution_count": 11,
   "id": "ab6d0b83",
   "metadata": {},
   "outputs": [
    {
     "data": {
      "text/plain": [
       "na                     6\n",
       "Dark XZ Plus LUX       1\n",
       "XZ Plus Dual Tone      1\n",
       "XZ Plus Lux 7.2 kW     1\n",
       "Exclusive              1\n",
       "HSE                    1\n",
       "Sportback 55           1\n",
       "Name: TopModel, dtype: int64"
      ]
     },
     "execution_count": 11,
     "metadata": {},
     "output_type": "execute_result"
    }
   ],
   "source": [
    "val4 = df[\"TopModel\"].value_counts()\n",
    "val4"
   ]
  },
  {
   "cell_type": "code",
   "execution_count": 12,
   "id": "e3a981af",
   "metadata": {},
   "outputs": [
    {
     "data": {
      "image/png": "[encoded data removed]",
      "text/plain": [
       "<Figure size 360x504 with 1 Axes>"
      ]
     },
     "metadata": {},
     "output_type": "display_data"
    }
   ],
   "source": [
    "plt.figure(figsize=(5,7))\n",
    "val4.plot(kind='pie',autopct=\"%.2f%%\")\n",
    "plt.xlabel('TopModel')\n",
    "plt.ylabel('Count')\n",
    "plt.show()"
   ]
  },
  {
   "cell_type": "code",
   "execution_count": 13,
   "id": "7d5547d3",
   "metadata": {},
   "outputs": [
    {
     "data": {
      "text/html": [
       "<div>\n",
       "<style scoped>\n",
       "    .dataframe tbody tr th:only-of-type {\n",
       "        vertical-align: middle;\n",
       "    }\n",
       "\n",
       "    .dataframe tbody tr th {\n",
       "        vertical-align: top;\n",
       "    }\n",
       "\n",
       "    .dataframe thead th {\n",
       "        text-align: right;\n",
       "    }\n",
       "</style>\n",
       "<table border=\"1\" class=\"dataframe\">\n",
       "  <thead>\n",
       "    <tr style=\"text-align: right;\">\n",
       "      <th></th>\n",
       "      <th>Car</th>\n",
       "      <th>Style</th>\n",
       "      <th>Range</th>\n",
       "      <th>Transmission</th>\n",
       "      <th>VehicleType</th>\n",
       "      <th>PriceRange</th>\n",
       "      <th>Capacity</th>\n",
       "      <th>BootSpace</th>\n",
       "      <th>BaseModel</th>\n",
       "      <th>TopModel</th>\n",
       "    </tr>\n",
       "  </thead>\n",
       "  <tbody>\n",
       "    <tr>\n",
       "      <th>0</th>\n",
       "      <td>9</td>\n",
       "      <td>0</td>\n",
       "      <td>1</td>\n",
       "      <td>0</td>\n",
       "      <td>0</td>\n",
       "      <td>7</td>\n",
       "      <td>1</td>\n",
       "      <td>1</td>\n",
       "      <td>6</td>\n",
       "      <td>0</td>\n",
       "    </tr>\n",
       "    <tr>\n",
       "      <th>1</th>\n",
       "      <td>11</td>\n",
       "      <td>6</td>\n",
       "      <td>0</td>\n",
       "      <td>0</td>\n",
       "      <td>0</td>\n",
       "      <td>6</td>\n",
       "      <td>1</td>\n",
       "      <td>0</td>\n",
       "      <td>5</td>\n",
       "      <td>4</td>\n",
       "    </tr>\n",
       "    <tr>\n",
       "      <th>2</th>\n",
       "      <td>10</td>\n",
       "      <td>0</td>\n",
       "      <td>7</td>\n",
       "      <td>0</td>\n",
       "      <td>0</td>\n",
       "      <td>8</td>\n",
       "      <td>1</td>\n",
       "      <td>1</td>\n",
       "      <td>7</td>\n",
       "      <td>5</td>\n",
       "    </tr>\n",
       "    <tr>\n",
       "      <th>3</th>\n",
       "      <td>6</td>\n",
       "      <td>0</td>\n",
       "      <td>5</td>\n",
       "      <td>0</td>\n",
       "      <td>0</td>\n",
       "      <td>9</td>\n",
       "      <td>1</td>\n",
       "      <td>3</td>\n",
       "      <td>0</td>\n",
       "      <td>1</td>\n",
       "    </tr>\n",
       "    <tr>\n",
       "      <th>4</th>\n",
       "      <td>4</td>\n",
       "      <td>0</td>\n",
       "      <td>8</td>\n",
       "      <td>0</td>\n",
       "      <td>0</td>\n",
       "      <td>10</td>\n",
       "      <td>1</td>\n",
       "      <td>7</td>\n",
       "      <td>1</td>\n",
       "      <td>2</td>\n",
       "    </tr>\n",
       "    <tr>\n",
       "      <th>5</th>\n",
       "      <td>5</td>\n",
       "      <td>3</td>\n",
       "      <td>9</td>\n",
       "      <td>0</td>\n",
       "      <td>0</td>\n",
       "      <td>2</td>\n",
       "      <td>1</td>\n",
       "      <td>5</td>\n",
       "      <td>3</td>\n",
       "      <td>3</td>\n",
       "    </tr>\n",
       "    <tr>\n",
       "      <th>6</th>\n",
       "      <td>1</td>\n",
       "      <td>1</td>\n",
       "      <td>2</td>\n",
       "      <td>0</td>\n",
       "      <td>0</td>\n",
       "      <td>5</td>\n",
       "      <td>1</td>\n",
       "      <td>2</td>\n",
       "      <td>2</td>\n",
       "      <td>6</td>\n",
       "    </tr>\n",
       "    <tr>\n",
       "      <th>7</th>\n",
       "      <td>3</td>\n",
       "      <td>5</td>\n",
       "      <td>4</td>\n",
       "      <td>0</td>\n",
       "      <td>0</td>\n",
       "      <td>11</td>\n",
       "      <td>1</td>\n",
       "      <td>4</td>\n",
       "      <td>4</td>\n",
       "      <td>6</td>\n",
       "    </tr>\n",
       "    <tr>\n",
       "      <th>8</th>\n",
       "      <td>7</td>\n",
       "      <td>0</td>\n",
       "      <td>10</td>\n",
       "      <td>0</td>\n",
       "      <td>0</td>\n",
       "      <td>0</td>\n",
       "      <td>1</td>\n",
       "      <td>7</td>\n",
       "      <td>8</td>\n",
       "      <td>6</td>\n",
       "    </tr>\n",
       "    <tr>\n",
       "      <th>9</th>\n",
       "      <td>2</td>\n",
       "      <td>2</td>\n",
       "      <td>6</td>\n",
       "      <td>0</td>\n",
       "      <td>0</td>\n",
       "      <td>3</td>\n",
       "      <td>1</td>\n",
       "      <td>7</td>\n",
       "      <td>8</td>\n",
       "      <td>6</td>\n",
       "    </tr>\n",
       "    <tr>\n",
       "      <th>10</th>\n",
       "      <td>8</td>\n",
       "      <td>4</td>\n",
       "      <td>11</td>\n",
       "      <td>0</td>\n",
       "      <td>0</td>\n",
       "      <td>4</td>\n",
       "      <td>0</td>\n",
       "      <td>7</td>\n",
       "      <td>8</td>\n",
       "      <td>6</td>\n",
       "    </tr>\n",
       "    <tr>\n",
       "      <th>11</th>\n",
       "      <td>0</td>\n",
       "      <td>0</td>\n",
       "      <td>3</td>\n",
       "      <td>0</td>\n",
       "      <td>0</td>\n",
       "      <td>1</td>\n",
       "      <td>1</td>\n",
       "      <td>6</td>\n",
       "      <td>8</td>\n",
       "      <td>6</td>\n",
       "    </tr>\n",
       "  </tbody>\n",
       "</table>\n",
       "</div>"
      ],
      "text/plain": [
       "    Car  Style  Range  Transmission  VehicleType  PriceRange  Capacity  \\\n",
       "0     9      0      1             0            0           7         1   \n",
       "1    11      6      0             0            0           6         1   \n",
       "2    10      0      7             0            0           8         1   \n",
       "3     6      0      5             0            0           9         1   \n",
       "4     4      0      8             0            0          10         1   \n",
       "5     5      3      9             0            0           2         1   \n",
       "6     1      1      2             0            0           5         1   \n",
       "7     3      5      4             0            0          11         1   \n",
       "8     7      0     10             0            0           0         1   \n",
       "9     2      2      6             0            0           3         1   \n",
       "10    8      4     11             0            0           4         0   \n",
       "11    0      0      3             0            0           1         1   \n",
       "\n",
       "    BootSpace  BaseModel  TopModel  \n",
       "0           1          6         0  \n",
       "1           0          5         4  \n",
       "2           1          7         5  \n",
       "3           3          0         1  \n",
       "4           7          1         2  \n",
       "5           5          3         3  \n",
       "6           2          2         6  \n",
       "7           4          4         6  \n",
       "8           7          8         6  \n",
       "9           7          8         6  \n",
       "10          7          8         6  \n",
       "11          6          8         6  "
      ]
     },
     "execution_count": 13,
     "metadata": {},
     "output_type": "execute_result"
    }
   ],
   "source": [
    "# Label Encoding\n",
    "from sklearn.preprocessing import LabelEncoder   \n",
    "\n",
    "labelencoder = LabelEncoder()\n",
    "\n",
    "df[\"Car\"]= labelencoder.fit_transform(df[\"Car\"])\n",
    "df[\"Style\"]= labelencoder.fit_transform(df[\"Style\"])\n",
    "df[\"Range\"]= labelencoder.fit_transform(df[\"Range\"])\n",
    "df[\"Transmission\"]= labelencoder.fit_transform(df[\"Transmission\"])\n",
    "df[\"VehicleType\"]= labelencoder.fit_transform(df[\"VehicleType\"])\n",
    "df[\"PriceRange\"]= labelencoder.fit_transform(df[\"PriceRange\"])\n",
    "df[\"Capacity\"]= labelencoder.fit_transform(df[\"Capacity\"])\n",
    "df[\"BootSpace\"]= labelencoder.fit_transform(df[\"BootSpace\"])\n",
    "df[\"BaseModel\"]= labelencoder.fit_transform(df[\"BaseModel\"])\n",
    "df[\"TopModel\"]= labelencoder.fit_transform(df[\"TopModel\"])\n",
    "\n",
    "df"
   ]
  },
  {
   "cell_type": "code",
   "execution_count": 14,
   "id": "7b4c4894",
   "metadata": {},
   "outputs": [
    {
     "data": {
      "text/html": [
       "<div>\n",
       "<style scoped>\n",
       "    .dataframe tbody tr th:only-of-type {\n",
       "        vertical-align: middle;\n",
       "    }\n",
       "\n",
       "    .dataframe tbody tr th {\n",
       "        vertical-align: top;\n",
       "    }\n",
       "\n",
       "    .dataframe thead th {\n",
       "        text-align: right;\n",
       "    }\n",
       "</style>\n",
       "<table border=\"1\" class=\"dataframe\">\n",
       "  <thead>\n",
       "    <tr style=\"text-align: right;\">\n",
       "      <th></th>\n",
       "      <th>Car</th>\n",
       "      <th>Style</th>\n",
       "      <th>Range</th>\n",
       "      <th>Transmission</th>\n",
       "      <th>VehicleType</th>\n",
       "      <th>PriceRange</th>\n",
       "      <th>Capacity</th>\n",
       "      <th>BootSpace</th>\n",
       "      <th>BaseModel</th>\n",
       "      <th>TopModel</th>\n",
       "    </tr>\n",
       "  </thead>\n",
       "  <tbody>\n",
       "    <tr>\n",
       "      <th>Car</th>\n",
       "      <td>1.000000</td>\n",
       "      <td>0.198687</td>\n",
       "      <td>0.048951</td>\n",
       "      <td>NaN</td>\n",
       "      <td>NaN</td>\n",
       "      <td>0.181818</td>\n",
       "      <td>-0.218357</td>\n",
       "      <td>-0.487188</td>\n",
       "      <td>0.153627</td>\n",
       "      <td>-0.357637</td>\n",
       "    </tr>\n",
       "    <tr>\n",
       "      <th>Style</th>\n",
       "      <td>0.198687</td>\n",
       "      <td>1.000000</td>\n",
       "      <td>-0.119212</td>\n",
       "      <td>NaN</td>\n",
       "      <td>NaN</td>\n",
       "      <td>0.096505</td>\n",
       "      <td>-0.319063</td>\n",
       "      <td>-0.129295</td>\n",
       "      <td>0.055427</td>\n",
       "      <td>0.290323</td>\n",
       "    </tr>\n",
       "    <tr>\n",
       "      <th>Range</th>\n",
       "      <td>0.048951</td>\n",
       "      <td>-0.119212</td>\n",
       "      <td>1.000000</td>\n",
       "      <td>NaN</td>\n",
       "      <td>NaN</td>\n",
       "      <td>-0.265734</td>\n",
       "      <td>-0.480384</td>\n",
       "      <td>0.712045</td>\n",
       "      <td>0.170697</td>\n",
       "      <td>0.210041</td>\n",
       "    </tr>\n",
       "    <tr>\n",
       "      <th>Transmission</th>\n",
       "      <td>NaN</td>\n",
       "      <td>NaN</td>\n",
       "      <td>NaN</td>\n",
       "      <td>NaN</td>\n",
       "      <td>NaN</td>\n",
       "      <td>NaN</td>\n",
       "      <td>NaN</td>\n",
       "      <td>NaN</td>\n",
       "      <td>NaN</td>\n",
       "      <td>NaN</td>\n",
       "    </tr>\n",
       "    <tr>\n",
       "      <th>VehicleType</th>\n",
       "      <td>NaN</td>\n",
       "      <td>NaN</td>\n",
       "      <td>NaN</td>\n",
       "      <td>NaN</td>\n",
       "      <td>NaN</td>\n",
       "      <td>NaN</td>\n",
       "      <td>NaN</td>\n",
       "      <td>NaN</td>\n",
       "      <td>NaN</td>\n",
       "      <td>NaN</td>\n",
       "    </tr>\n",
       "    <tr>\n",
       "      <th>PriceRange</th>\n",
       "      <td>0.181818</td>\n",
       "      <td>0.096505</td>\n",
       "      <td>-0.265734</td>\n",
       "      <td>NaN</td>\n",
       "      <td>NaN</td>\n",
       "      <td>1.000000</td>\n",
       "      <td>0.131014</td>\n",
       "      <td>-0.412236</td>\n",
       "      <td>-0.580370</td>\n",
       "      <td>-0.425759</td>\n",
       "    </tr>\n",
       "    <tr>\n",
       "      <th>Capacity</th>\n",
       "      <td>-0.218357</td>\n",
       "      <td>-0.319063</td>\n",
       "      <td>-0.480384</td>\n",
       "      <td>NaN</td>\n",
       "      <td>NaN</td>\n",
       "      <td>0.131014</td>\n",
       "      <td>1.000000</td>\n",
       "      <td>-0.331554</td>\n",
       "      <td>-0.319801</td>\n",
       "      <td>-0.248160</td>\n",
       "    </tr>\n",
       "    <tr>\n",
       "      <th>BootSpace</th>\n",
       "      <td>-0.487188</td>\n",
       "      <td>-0.129295</td>\n",
       "      <td>0.712045</td>\n",
       "      <td>NaN</td>\n",
       "      <td>NaN</td>\n",
       "      <td>-0.412236</td>\n",
       "      <td>-0.331554</td>\n",
       "      <td>1.000000</td>\n",
       "      <td>0.240129</td>\n",
       "      <td>0.342251</td>\n",
       "    </tr>\n",
       "    <tr>\n",
       "      <th>BaseModel</th>\n",
       "      <td>0.153627</td>\n",
       "      <td>0.055427</td>\n",
       "      <td>0.170697</td>\n",
       "      <td>NaN</td>\n",
       "      <td>NaN</td>\n",
       "      <td>-0.580370</td>\n",
       "      <td>-0.319801</td>\n",
       "      <td>0.240129</td>\n",
       "      <td>1.000000</td>\n",
       "      <td>0.540417</td>\n",
       "    </tr>\n",
       "    <tr>\n",
       "      <th>TopModel</th>\n",
       "      <td>-0.357637</td>\n",
       "      <td>0.290323</td>\n",
       "      <td>0.210041</td>\n",
       "      <td>NaN</td>\n",
       "      <td>NaN</td>\n",
       "      <td>-0.425759</td>\n",
       "      <td>-0.248160</td>\n",
       "      <td>0.342251</td>\n",
       "      <td>0.540417</td>\n",
       "      <td>1.000000</td>\n",
       "    </tr>\n",
       "  </tbody>\n",
       "</table>\n",
       "</div>"
      ],
      "text/plain": [
       "                   Car     Style     Range  Transmission  VehicleType  \\\n",
       "Car           1.000000  0.198687  0.048951           NaN          NaN   \n",
       "Style         0.198687  1.000000 -0.119212           NaN          NaN   \n",
       "Range         0.048951 -0.119212  1.000000           NaN          NaN   \n",
       "Transmission       NaN       NaN       NaN           NaN          NaN   \n",
       "VehicleType        NaN       NaN       NaN           NaN          NaN   \n",
       "PriceRange    0.181818  0.096505 -0.265734           NaN          NaN   \n",
       "Capacity     -0.218357 -0.319063 -0.480384           NaN          NaN   \n",
       "BootSpace    -0.487188 -0.129295  0.712045           NaN          NaN   \n",
       "BaseModel     0.153627  0.055427  0.170697           NaN          NaN   \n",
       "TopModel     -0.357637  0.290323  0.210041           NaN          NaN   \n",
       "\n",
       "              PriceRange  Capacity  BootSpace  BaseModel  TopModel  \n",
       "Car             0.181818 -0.218357  -0.487188   0.153627 -0.357637  \n",
       "Style           0.096505 -0.319063  -0.129295   0.055427  0.290323  \n",
       "Range          -0.265734 -0.480384   0.712045   0.170697  0.210041  \n",
       "Transmission         NaN       NaN        NaN        NaN       NaN  \n",
       "VehicleType          NaN       NaN        NaN        NaN       NaN  \n",
       "PriceRange      1.000000  0.131014  -0.412236  -0.580370 -0.425759  \n",
       "Capacity        0.131014  1.000000  -0.331554  -0.319801 -0.248160  \n",
       "BootSpace      -0.412236 -0.331554   1.000000   0.240129  0.342251  \n",
       "BaseModel      -0.580370 -0.319801   0.240129   1.000000  0.540417  \n",
       "TopModel       -0.425759 -0.248160   0.342251   0.540417  1.000000  "
      ]
     },
     "execution_count": 14,
     "metadata": {},
     "output_type": "execute_result"
    }
   ],
   "source": [
    "df.corr()"
   ]
  },
  {
   "cell_type": "code",
   "execution_count": 15,
   "id": "a0e18b23",
   "metadata": {},
   "outputs": [
    {
     "name": "stderr",
     "output_type": "stream",
     "text": [
      "C:\\Users\\intel\\anaconda3\\lib\\site-packages\\sklearn\\cluster\\_kmeans.py:881: UserWarning: KMeans is known to have a memory leak on Windows with MKL, when there are less chunks than available threads. You can avoid it by setting the environment variable OMP_NUM_THREADS=1.\n",
      "  warnings.warn(\n"
     ]
    }
   ],
   "source": [
    "from sklearn.cluster import KMeans\n",
    "wcss=[]\n",
    "X= df.iloc[:, [2,5]].values\n",
    "\n",
    "for i in range(1,11):\n",
    "    kmeans = KMeans(n_clusters= i, init='k-means++', random_state=0)\n",
    "    kmeans.fit(X)\n",
    "    wcss.append(kmeans.inertia_)"
   ]
  },
  {
   "cell_type": "code",
   "execution_count": 16,
   "id": "e2688352",
   "metadata": {},
   "outputs": [
    {
     "data": {
      "image/png": "[encoded data removed]",
      "text/plain": [
       "<Figure size 432x288 with 1 Axes>"
      ]
     },
     "metadata": {
      "needs_background": "light"
     },
     "output_type": "display_data"
    }
   ],
   "source": [
    "plt.plot(range(1,11), wcss)\n",
    "plt.title('The Elbow Method')\n",
    "plt.xlabel('no of clusters')\n",
    "plt.ylabel('wcss')\n",
    "plt.show()"
   ]
  },
  {
   "cell_type": "code",
   "execution_count": 17,
   "id": "50c1cd36",
   "metadata": {},
   "outputs": [],
   "source": [
    "kmeansmodel = KMeans(n_clusters= 5, init='k-means++', random_state=0)\n",
    "y_kmeans= kmeansmodel.fit_predict(X)"
   ]
  },
  {
   "cell_type": "code",
   "execution_count": 18,
   "id": "1899ad69",
   "metadata": {},
   "outputs": [
    {
     "data": {
      "image/png": "[encoded data removed]",
      "text/plain": [
       "<Figure size 432x288 with 1 Axes>"
      ]
     },
     "metadata": {
      "needs_background": "light"
     },
     "output_type": "display_data"
    }
   ],
   "source": [
    "plt.scatter(X[y_kmeans == 0, 0], X[y_kmeans == 0, 1], s = 100, c = 'red', label = 'Cluster 1')\n",
    "plt.scatter(X[y_kmeans == 1, 0], X[y_kmeans == 1, 1], s = 100, c = 'blue', label = 'Cluster 2')\n",
    "plt.scatter(X[y_kmeans == 2, 0], X[y_kmeans == 2, 1], s = 100, c = 'green', label = 'Cluster 3')\n",
    "plt.scatter(X[y_kmeans == 3, 0], X[y_kmeans == 3, 1], s = 100, c = 'cyan', label = 'Cluster 4')\n",
    "plt.scatter(X[y_kmeans == 4, 0], X[y_kmeans == 4, 1], s = 100, c = 'magenta', label = 'Cluster 5')\n",
    "#plt.scatter(kmeans.cluster_centers_[:, 0], kmeans.cluster_centers_[:, 1], s = 300, c = 'yellow', label = 'Centroids')\n",
    "plt.title('Clusters of customers')\n",
    "plt.xlabel('Range')\n",
    "plt.ylabel('PriceRange')\n",
    "plt.legend()\n",
    "plt.show()"
   ]
  },
  {
   "cell_type": "code",
   "execution_count": null,
   "id": "dd6f9bb1",
   "metadata": {},
   "outputs": [],
   "source": []
  }
 ],
 "metadata": {
  "kernelspec": {
   "display_name": "Python 3 (ipykernel)",
   "language": "python",
   "name": "python3"
  },
  "language_info": {
   "codemirror_mode": {
    "name": "ipython",
    "version": 3
   },
   "file_extension": ".py",
   "mimetype": "text/x-python",
   "name": "python",
   "nbconvert_exporter": "python",
   "pygments_lexer": "ipython3",
   "version": "3.9.7"
  }
 },
 "nbformat": 4,
 "nbformat_minor": 5
}
